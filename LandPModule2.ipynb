{
 "cells": [
  {
   "cell_type": "code",
   "execution_count": 3,
   "id": "d71dc7ab",
   "metadata": {},
   "outputs": [
    {
     "name": "stdout",
     "output_type": "stream",
     "text": [
      "Too High\n"
     ]
    }
   ],
   "source": [
    "# 4.1\n",
    "\n",
    "number = 7\n",
    "guess = 9\n",
    "\n",
    "if(guess > number):\n",
    "    print(\"Too High\")\n",
    "elif(guess < number):\n",
    "    print(\"Too low\")\n",
    "else:\n",
    "    print(\"Just right\")"
   ]
  },
  {
   "cell_type": "code",
   "execution_count": 15,
   "id": "c761fe9f",
   "metadata": {},
   "outputs": [
    {
     "name": "stdout",
     "output_type": "stream",
     "text": [
      "This is a watermelon\n"
     ]
    }
   ],
   "source": [
    "# 4.2\n",
    "\n",
    "small = False\n",
    "green = True\n",
    "\n",
    "if (small == True and green == True):\n",
    "    print(\"This is a pea\")\n",
    "elif (small == True and green == False):\n",
    "    print(\"This is a cherry\")\n",
    "elif (small == False and green == True):\n",
    "    print(\"This is a watermelon\")\n",
    "else:\n",
    "    print(\"This is a pumpkin\")"
   ]
  },
  {
   "cell_type": "code",
   "execution_count": 16,
   "id": "9f2b1c92",
   "metadata": {},
   "outputs": [
    {
     "name": "stdout",
     "output_type": "stream",
     "text": [
      "3\n",
      "2\n",
      "1\n",
      "0\n"
     ]
    }
   ],
   "source": [
    "# 6.1\n",
    "\n",
    "lNum = [3, 2, 1, 0]\n",
    "\n",
    "for x in lNum:\n",
    "    print(x)"
   ]
  },
  {
   "cell_type": "code",
   "execution_count": 20,
   "id": "cc505fe7",
   "metadata": {},
   "outputs": [
    {
     "name": "stdout",
     "output_type": "stream",
     "text": [
      "Too High\n",
      "Too High\n",
      "Too High\n",
      "Too High\n",
      "Too High\n",
      "Too High\n",
      "Too High\n",
      "Too High\n",
      "Too High\n",
      "Too High\n",
      "Too High\n",
      "Found it!\n"
     ]
    }
   ],
   "source": [
    "# 6.2\n",
    "\n",
    "guessMe = 7\n",
    "number = 1\n",
    "\n",
    "while(number != guessMe):\n",
    "    if(number > guessMe):\n",
    "        print(\"Too High\")\n",
    "        number -= 1\n",
    "    elif(number < guessMe):\n",
    "        print(\"Too low\")\n",
    "        number+=1\n",
    "if(number == guessMe):\n",
    "        print(\"Found it!\")"
   ]
  },
  {
   "cell_type": "code",
   "execution_count": 2,
   "id": "91cd1e2d",
   "metadata": {},
   "outputs": [
    {
     "name": "stdout",
     "output_type": "stream",
     "text": [
      "Too low\n",
      "0\n",
      "Too low\n",
      "1\n",
      "Too low\n",
      "2\n",
      "Too low\n",
      "3\n",
      "Too low\n",
      "4\n",
      "Found it!\n",
      "5\n"
     ]
    }
   ],
   "source": [
    "# 6.3\n",
    "\n",
    "guessMe = 5\n",
    "\n",
    "for number in range(10):\n",
    "    if(number < guessMe):\n",
    "        print(\"Too low\")\n",
    "        print(number)\n",
    "    elif(number == guessMe):\n",
    "        print(\"Found it!\")\n",
    "        print(number)\n",
    "        break\n",
    "    elif(number > guessMe):\n",
    "        print(\"oops!\")\n",
    "        print(number)\n",
    "        break"
   ]
  },
  {
   "cell_type": "code",
   "execution_count": null,
   "id": "ab08e030",
   "metadata": {},
   "outputs": [],
   "source": []
  }
 ],
 "metadata": {
  "kernelspec": {
   "display_name": "Python 3 (ipykernel)",
   "language": "python",
   "name": "python3"
  },
  "language_info": {
   "codemirror_mode": {
    "name": "ipython",
    "version": 3
   },
   "file_extension": ".py",
   "mimetype": "text/x-python",
   "name": "python",
   "nbconvert_exporter": "python",
   "pygments_lexer": "ipython3",
   "version": "3.11.5"
  }
 },
 "nbformat": 4,
 "nbformat_minor": 5
}
